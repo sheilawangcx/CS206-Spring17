{
 "cells": [
  {
   "cell_type": "markdown",
   "metadata": {},
   "source": [
    "# NLA 29.1"
   ]
  },
  {
   "cell_type": "code",
   "execution_count": 521,
   "metadata": {
    "collapsed": true
   },
   "outputs": [],
   "source": [
    "%matplotlib inline\n",
    "import numpy as np\n",
    "import matplotlib.pyplot as plt\n",
    "from scipy.linalg import hilbert\n",
    "plt.rcParams['figure.figsize'] = (10.0, 6)\n",
    "# set output format\n",
    "np.set_printoptions(precision=8)\n",
    "np.set_printoptions(suppress=True)"
   ]
  },
  {
   "cell_type": "code",
   "execution_count": 522,
   "metadata": {
    "collapsed": false,
    "scrolled": true
   },
   "outputs": [
    {
     "name": "stdout",
     "output_type": "stream",
     "text": [
      "[[ 1.          0.5         0.33333333  0.25      ]\n",
      " [ 0.5         0.33333333  0.25        0.2       ]\n",
      " [ 0.33333333  0.25        0.2         0.16666667]\n",
      " [ 0.25        0.2         0.16666667  0.14285714]]\n"
     ]
    }
   ],
   "source": [
    "## 29.1\n",
    "A = hilbert(4)\n",
    "#A = np.random.randn(4,4)\n",
    "#A = A + A.T # generate a symmetric matrix\n",
    "print A # generate a symmetric matrix"
   ]
  },
  {
   "cell_type": "markdown",
   "metadata": {},
   "source": [
    "## (a)"
   ]
  },
  {
   "cell_type": "code",
   "execution_count": 533,
   "metadata": {
    "collapsed": true
   },
   "outputs": [],
   "source": [
    "def tridiag(A):\n",
    "    m = np.shape(A)[0]\n",
    "    T = np.copy(A)\n",
    "   \n",
    "    for k in range (0, m-2):\n",
    "        x = T[k+1:m, k].squeeze()\n",
    "        e1 = np.zeros_like(x)\n",
    "        e1[0] = np.copysign(np.linalg.norm(x), x[0])\n",
    "        v = e1 + x\n",
    "        v = v / np.linalg.norm(v)\n",
    "        T[k+1:m, k:m]=T[k+1:m, k:m]\n",
    "        -2*np.outer(v,(v.dot(T[k+1:m,k:m])))\n",
    "        \n",
    "        T[0:m, k+1:m]=T[0:m, k+1:m]\n",
    "        -2*np.outer((T[0:m, k+1:m].dot(v)),v.T)\n",
    "                 \n",
    "    return  T"
   ]
  },
  {
   "cell_type": "markdown",
   "metadata": {},
   "source": [
    "## (b)"
   ]
  },
  {
   "cell_type": "code",
   "execution_count": 524,
   "metadata": {
    "collapsed": true
   },
   "outputs": [],
   "source": [
    "def qralg(T):\n",
    "    Tnew = np.copy(T)\n",
    "    m = np.shape(Tnew)[0]\n",
    "    v = []\n",
    "    \n",
    "    while np.absolute(Tnew[m-1,m-2]) > 1.0e-12:\n",
    "        Q, R = np.linalg.qr(Tnew, mode='complete')\n",
    "        Tnew = R.dot(Q)\n",
    "        v.append(np.absolute(Tnew[m-1,m-2])) \n",
    "        \n",
    "    return Tnew, v"
   ]
  },
  {
   "cell_type": "code",
   "execution_count": 534,
   "metadata": {
    "collapsed": false
   },
   "outputs": [
    {
     "name": "stdout",
     "output_type": "stream",
     "text": [
      "T:\n",
      "[[ 1.          0.5         0.33333333  0.25      ]\n",
      " [ 0.5         0.33333333  0.25        0.2       ]\n",
      " [ 0.33333333  0.25        0.2         0.16666667]\n",
      " [ 0.25        0.2         0.16666667  0.14285714]]\n"
     ]
    }
   ],
   "source": [
    "T = tridiag(A)\n",
    "print 'T:'\n",
    "print T"
   ]
  },
  {
   "cell_type": "code",
   "execution_count": 526,
   "metadata": {
    "collapsed": false
   },
   "outputs": [
    {
     "name": "stdout",
     "output_type": "stream",
     "text": [
      "Tnew:\n",
      "[[ 1.50021428 -0.00001781  0.          0.        ]\n",
      " [-0.00001781  0.16914122  0.00000001  0.        ]\n",
      " [ 0.          0.00000001  0.00673827  0.        ]\n",
      " [-0.         -0.          0.          0.0000967 ]]\n"
     ]
    }
   ],
   "source": [
    "Tnew, v = qralg(T)\n",
    "print 'Tnew:'\n",
    "print Tnew"
   ]
  },
  {
   "cell_type": "markdown",
   "metadata": {},
   "source": [
    "## (c)"
   ]
  },
  {
   "cell_type": "code",
   "execution_count": 531,
   "metadata": {
    "collapsed": false
   },
   "outputs": [
    {
     "name": "stdout",
     "output_type": "stream",
     "text": [
      "output eigenvalues:\n",
      "[ 0.0000967   0.00673827  0.16914122  1.50021428]\n",
      "eigenvalues by default function:\n",
      "[ 1.50021428  0.16914122  0.00673827  0.0000967 ] \n",
      "\n"
     ]
    },
    {
     "data": {
      "image/png": "[encoded data removed]",
      "text/plain": [
       "<matplotlib.figure.Figure at 0x112e971d0>"
      ]
     },
     "metadata": {},
     "output_type": "display_data"
    }
   ],
   "source": [
    "T = tridiag(A)\n",
    "Tnew, alist = qralg(T)\n",
    "ew = np.zeros(np.shape(T)[0])\n",
    "\n",
    "for j in range(np.shape(T)[0]-1): \n",
    "    Tnew, v = qralg(Tnew)\n",
    "    alist.extend(v)\n",
    "     \n",
    "    newT = np.absolute(Tnew)\n",
    "    m = np.shape(Tnew)[0]\n",
    "    u = np.zeros(m)\n",
    "    for i in range(m):\n",
    "        u[i] = np.sum(newT[i,:]) - newT[i,i]    \n",
    "    k = np.argmin(u)\n",
    "    ew[j] = Tnew[k,k]\n",
    "    Tnew = np.delete(np.delete(Tnew, k, 0),k,1)  \n",
    "ew[ew == 0] = Tnew[0,0]\n",
    "\n",
    "print \"output eigenvalues:\"\n",
    "print ew\n",
    "print 'eigenvalues by default function:'\n",
    "print np.linalg.eigvals(A), '\\n'\n",
    "plt.semilogy(range(len(alist)), alist) \n",
    "plt.title('Semilogy Plot')\n",
    "plt.show()"
   ]
  }
 ],
 "metadata": {
  "kernelspec": {
   "display_name": "Python 2",
   "language": "python",
   "name": "python2"
  },
  "language_info": {
   "codemirror_mode": {
    "name": "ipython",
    "version": 2
   },
   "file_extension": ".py",
   "mimetype": "text/x-python",
   "name": "python",
   "nbconvert_exporter": "python",
   "pygments_lexer": "ipython2",
   "version": "2.7.13"
  }
 },
 "nbformat": 4,
 "nbformat_minor": 2
}
