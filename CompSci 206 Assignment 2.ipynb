{
 "cells": [
  {
   "cell_type": "markdown",
   "metadata": {},
   "source": [
    "# Question 6: NLA 8.2"
   ]
  },
  {
   "cell_type": "code",
   "execution_count": 523,
   "metadata": {
    "collapsed": true
   },
   "outputs": [],
   "source": [
    "# Question 6: NLA 8.2\n",
    "import numpy as np\n",
    "\n",
    "def mgs(A):\n",
    "    m = np.shape(A)[0]\n",
    "    n = np.shape(A)[1]\n",
    "    Q = np.zeros((m, n))\n",
    "    R = np.zeros((n, n)) \n",
    "    V = A\n",
    "\n",
    "    for i in range(0, n):\n",
    "        R[i,i] = np.linalg.norm(V[:,i])\n",
    "        Q[:,i] = (V[:,i] / R[i,i]).squeeze()\n",
    "        for j in range(i+1, n):\n",
    "            R[i,j] =  np.dot(Q[:,i], V[:,j])\n",
    "            V[:,j] =  (V[:,j].squeeze() - np.dot(R[i,j], Q[:,i])).T\n",
    "    return Q, R"
   ]
  },
  {
   "cell_type": "markdown",
   "metadata": {},
   "source": [
    "# Question 7"
   ]
  },
  {
   "cell_type": "code",
   "execution_count": 524,
   "metadata": {
    "collapsed": false
   },
   "outputs": [
    {
     "name": "stdout",
     "output_type": "stream",
     "text": [
      "Q: [[ 0.70710173  0.70711183]\n",
      " [ 0.70711183 -0.70710173]]\n",
      "R: [[  9.89956565e-01   1.00000455e+00]\n",
      " [  0.00000000e+00   7.14283864e-06]]\n",
      "norm: 2.30145902338e-11\n"
     ]
    }
   ],
   "source": [
    "# Question 7\n",
    "A = np.matrix('0.70000 0.70711; 0.70001 0.70711')\n",
    "Q, R = mgs(A)\n",
    "\n",
    "print \"Q:\", Q\n",
    "print \"R:\", R\n",
    "\n",
    "## Check Ortogonality\n",
    "\n",
    "print 'norm:', np.linalg.norm(np.dot(Q, Q) - np.eye(2))"
   ]
  },
  {
   "cell_type": "markdown",
   "metadata": {},
   "source": [
    "So orthogonality is satisfied."
   ]
  },
  {
   "cell_type": "code",
   "execution_count": 525,
   "metadata": {
    "collapsed": false
   },
   "outputs": [
    {
     "name": "stdout",
     "output_type": "stream",
     "text": [
      "new Q: [[-0.70710173 -0.70711183]\n",
      " [-0.70711183  0.70710173]]\n",
      "new R: [[ -9.89956565e-01  -1.64387919e-16]\n",
      " [  0.00000000e+00  -7.14283864e-06]]\n"
     ]
    }
   ],
   "source": [
    "## Compare the one returned by the qr function:\n",
    "\n",
    "new_Q, new_R = np.linalg.qr(A, mode='reduced')\n",
    "print 'new Q:', new_Q\n",
    "print 'new R:', new_R"
   ]
  },
  {
   "cell_type": "markdown",
   "metadata": {},
   "source": [
    "Note that there is only difference in the signs between the QR factorization from the default function and my mgs function."
   ]
  },
  {
   "cell_type": "markdown",
   "metadata": {},
   "source": [
    "# Question 9: NLA 10.2"
   ]
  },
  {
   "cell_type": "code",
   "execution_count": 539,
   "metadata": {
    "collapsed": false
   },
   "outputs": [],
   "source": [
    "## 10.2\n",
    "### (a)\n",
    "def house(A):\n",
    "    m = np.shape(A)[0]\n",
    "    n = np.shape(A)[1]\n",
    "    W = np.zeros((m, n))\n",
    "    R = np.copy(A)\n",
    "   \n",
    "    for k in range (0, n):\n",
    "        x = R[k:m, k].squeeze()\n",
    "        e1 = np.zeros_like(x)\n",
    "        e1[0] = np.copysign(np.linalg.norm(x), x[0])\n",
    "        v = e1 + x\n",
    "        W[k:m,k] = v / np.linalg.norm(v)\n",
    "        R[k:m, k:n]=R[k:m, k:n]-2*np.outer(W[k:m,k],(W[k:m,k].dot(R[k:m,k:n])))\n",
    "        R = np.round(R, 3)\n",
    "        W = np.round(W, 3)\n",
    "    \n",
    "    return W, R\n"
   ]
  },
  {
   "cell_type": "code",
   "execution_count": 540,
   "metadata": {
    "collapsed": false
   },
   "outputs": [],
   "source": [
    "### (b)\n",
    "\n",
    "def formQ(W): \n",
    "    m = np.shape(W)[0]\n",
    "    n = np.shape(W)[1]\n",
    "    Q = np.identity(m)\n",
    "       \n",
    "    for k in range(0, n):\n",
    "        Q_k = np.identity(m)\n",
    "        Q_k[k:m, k:m] = Q_k[k:m, k:m] - 2 * np.outer(W[k:m,k], W[k:m,k])\n",
    "        Q = np.dot(Q, Q_k)\n",
    "        Q = np.round(Q, 3)\n",
    "    \n",
    "    return Q\n"
   ]
  },
  {
   "cell_type": "markdown",
   "metadata": {},
   "source": [
    "# Question 10: NLA 10.3"
   ]
  },
  {
   "cell_type": "code",
   "execution_count": 542,
   "metadata": {
    "collapsed": false
   },
   "outputs": [
    {
     "name": "stdout",
     "output_type": "stream",
     "text": [
      "\n",
      "QR factorization by Modified Gram-Schmidt Routine:\n",
      "Q1: [[ 0.101  0.316  0.542]\n",
      " [ 0.404  0.353  0.516]\n",
      " [ 0.707  0.391 -0.525]\n",
      " [ 0.404 -0.558  0.387]\n",
      " [ 0.404 -0.558 -0.12 ]]\n",
      "\n",
      "R1: [[ 9.899  9.495  9.697]\n",
      " [ 0.     3.292  3.013]\n",
      " [ 0.     0.     1.97 ]]\n"
     ]
    }
   ],
   "source": [
    "## 10.3\n",
    "Z = np.array([[1.0,2.0,3.0], [4.0,5.0,6.0], [7.0,8.0,7.0],\n",
    "             [4.0,2.0,3.0], [4.0,2.0,2.0]])\n",
    "print \n",
    "\n",
    "## 1. Reduced QR using mgs in 8.2:\n",
    "Q1, R1 = mgs(Z)\n",
    "print 'QR factorization by Modified Gram-Schmidt Routine:'\n",
    "Q1 = np.round(Q1, 3)\n",
    "R1 = np.round(R1, 3)\n",
    "print 'Q1:', Q1\n",
    "print\n",
    "print 'R1:', R1\n"
   ]
  },
  {
   "cell_type": "code",
   "execution_count": 541,
   "metadata": {
    "collapsed": false
   },
   "outputs": [
    {
     "name": "stdout",
     "output_type": "stream",
     "text": [
      "\n",
      "QR factorization by Householder Relection:\n",
      "W2: [[ 0.742  0.     0.   ]\n",
      " [ 0.272  0.787  0.   ]\n",
      " [ 0.477  0.119 -0.98 ]\n",
      " [ 0.272 -0.428  0.184]\n",
      " [ 0.272 -0.428 -0.075]]\n",
      "\n",
      "Q2: [[-0.101 -0.315  0.543 -0.685 -0.357]\n",
      " [-0.404 -0.354  0.515  0.329  0.581]\n",
      " [-0.708 -0.389 -0.524  0.009 -0.268]\n",
      " [-0.404  0.558  0.387  0.367 -0.491]\n",
      " [-0.404  0.558 -0.121 -0.538  0.47 ]]\n",
      "\n",
      "R2: [[-9.899 -9.495 -9.697]\n",
      " [-0.    -3.292 -3.013]\n",
      " [-0.    -0.     1.97 ]\n",
      " [-0.     0.     0.   ]\n",
      " [-0.     0.     0.   ]]\n"
     ]
    }
   ],
   "source": [
    "## 2. Reduced QR using using 10.2:\n",
    "print \n",
    "Z = np.array([[1.0,2.0,3.0], [4.0,5.0,6.0], [7.0,8.0,7.0],\n",
    "             [4.0,2.0,3.0], [4.0,2.0,2.0]])\n",
    "W2, R2 = house(Z)\n",
    "Q2 = formQ(W2)\n",
    "print 'QR factorization by Householder Relection:'\n",
    "print 'W2:', W2\n",
    "print\n",
    "print 'Q2:', Q2\n",
    "print\n",
    "print 'R2:', R2"
   ]
  },
  {
   "cell_type": "code",
   "execution_count": 530,
   "metadata": {
    "collapsed": false
   },
   "outputs": [
    {
     "name": "stdout",
     "output_type": "stream",
     "text": [
      "QR factorization by default:\n",
      "Q3: [[-0.10101525 -0.31617307  0.5419969 ]\n",
      " [-0.40406102 -0.3533699   0.51618752]\n",
      " [-0.70710678 -0.39056673 -0.52479065]\n",
      " [-0.40406102  0.55795248  0.38714064]\n",
      " [-0.40406102  0.55795248 -0.12044376]]\n",
      "\n",
      "R3: [[-9.89949494 -9.49543392 -9.69746443]\n",
      " [ 0.         -3.29191961 -3.01294337]\n",
      " [ 0.          0.          1.97011572]]\n"
     ]
    }
   ],
   "source": [
    "## 3.Reduced QR using build-in command:\n",
    "Z = np.array([[1,2,3], [4,5,6], [7,8,7],\n",
    "             [4,2,3], [4,2,2]])\n",
    "Q3, R3 = np.linalg.qr(Z, mode='reduced')\n",
    "print 'QR factorization by default:'\n",
    "print 'Q3:', Q3\n",
    "print\n",
    "print 'R3:', R3\n"
   ]
  },
  {
   "cell_type": "markdown",
   "metadata": {},
   "source": [
    "The first and third method give basically the same result; however the result of the householder reflection method presents deviations from the other two."
   ]
  }
 ],
 "metadata": {
  "kernelspec": {
   "display_name": "Python 2",
   "language": "python",
   "name": "python2"
  },
  "language_info": {
   "codemirror_mode": {
    "name": "ipython",
    "version": 2
   },
   "file_extension": ".py",
   "mimetype": "text/x-python",
   "name": "python",
   "nbconvert_exporter": "python",
   "pygments_lexer": "ipython2",
   "version": "2.7.13"
  }
 },
 "nbformat": 4,
 "nbformat_minor": 2
}
